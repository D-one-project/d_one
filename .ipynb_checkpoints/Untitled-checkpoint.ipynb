{
 "cells": [
  {
   "cell_type": "code",
   "execution_count": 25,
   "id": "9a4ac7ee-00f3-452c-b39a-7b30ea9ffa9b",
   "metadata": {
    "tags": []
   },
   "outputs": [],
   "source": [
    "import pandas as pd"
   ]
  },
  {
   "cell_type": "code",
   "execution_count": 26,
   "id": "1f97b7e9-2db8-4f24-bcb3-4333bedf6856",
   "metadata": {
    "tags": []
   },
   "outputs": [],
   "source": [
    "import numpy as np"
   ]
  },
  {
   "cell_type": "markdown",
   "id": "3fb6f3cb-ebc8-49ec-998e-b551a9eadb3d",
   "metadata": {},
   "source": [
    "### HW\n",
    "- 1. Create 5 random variables range from 200~1200 with 50 data points called a-e.\n",
    "- 2. Create one variable range from 1-5 called group1\n",
    "- 3. Create one variable range from a-c called group2\n",
    "\n",
    "- 4. Use group by with sum, mean, median, sd, and get the first value or last value from the index to aggregate\n",
    "- 5. Use pivot_table to replicate the result from 4\n",
    "- 6. Use melt to have a data set as follows from 5\n",
    "- - Field, value, type\n",
    "- 7. Utilize apply lambda for free calculation\n",
    "- 8. Visualize per group with boxplot and one additional of you choice."
   ]
  },
  {
   "cell_type": "code",
   "execution_count": 5,
   "id": "3e52b6f9-22e7-4384-a429-1885e1624add",
   "metadata": {
    "tags": []
   },
   "outputs": [
    {
     "data": {
      "text/plain": [
       "array([ 537.17360597,  914.92104249,  200.28808045, 1026.62437944,\n",
       "        672.81750394,  531.47216232,  502.21687186,  955.79806567,\n",
       "       1193.86218325,  354.05147351,  503.89232354, 1082.75083888,\n",
       "        251.60331051,  647.37381765,  944.982345  ,  873.20474424,\n",
       "        808.30727782,  755.39383929,  430.08395638,  547.01459485,\n",
       "        515.58138434,  315.73388597, 1010.9573228 , 1007.81678806,\n",
       "       1199.45683911,  455.71211479,  813.91591366,  759.90138747,\n",
       "        883.43619372,  635.49625129,  477.17347503, 1095.58494961,\n",
       "        746.21410268, 1195.54182979, 1065.24724383,  650.48416231,\n",
       "        667.22090145,  737.55715958,  883.72906501, 1145.19690531,\n",
       "        712.84692061,  747.16794132,  695.35057075,  480.80383671,\n",
       "        970.80972892,  727.27065765, 1116.1021078 ,  490.21052159,\n",
       "        731.72640254,  761.63397704])"
      ]
     },
     "execution_count": 5,
     "metadata": {},
     "output_type": "execute_result"
    }
   ],
   "source": [
    "np.random.uniform(200,1200,50)"
   ]
  },
  {
   "cell_type": "code",
   "execution_count": 36,
   "id": "be6999bf-202b-4a9b-bbed-f0eff61b37e8",
   "metadata": {
    "tags": []
   },
   "outputs": [
    {
     "data": {
      "text/plain": [
       "''"
      ]
     },
     "execution_count": 36,
     "metadata": {},
     "output_type": "execute_result"
    }
   ],
   "source": [
    "import os\n",
    "os.path.dirname('')\n"
   ]
  },
  {
   "cell_type": "code",
   "execution_count": 20,
   "id": "7c8e9f46-f111-4616-a559-ae77c9c21149",
   "metadata": {
    "tags": []
   },
   "outputs": [
    {
     "data": {
      "text/plain": [
       "array([4, 2, 4, 4, 4, 4, 3, 1, 2, 3, 3, 2, 2, 3, 2, 2, 2, 4, 1, 3, 2, 2,\n",
       "       3, 2, 4, 4, 1, 3, 3, 2, 1, 2, 3, 1, 3, 3, 1, 2, 3, 2, 2, 2, 3, 4,\n",
       "       1, 2, 1, 1, 4, 1])"
      ]
     },
     "execution_count": 20,
     "metadata": {},
     "output_type": "execute_result"
    }
   ],
   "source": [
    "np.random.randint(1,5,50)"
   ]
  },
  {
   "cell_type": "code",
   "execution_count": 23,
   "id": "bd553839-cae8-4784-9f83-76e9eeeaf1c4",
   "metadata": {
    "tags": []
   },
   "outputs": [
    {
     "data": {
      "text/plain": [
       "['a',\n",
       " 'a',\n",
       " 'a',\n",
       " 'a',\n",
       " 'a',\n",
       " 'a',\n",
       " 'a',\n",
       " 'a',\n",
       " 'a',\n",
       " 'a',\n",
       " 'a',\n",
       " 'a',\n",
       " 'a',\n",
       " 'a',\n",
       " 'a',\n",
       " 'a',\n",
       " 'a',\n",
       " 'a',\n",
       " 'a',\n",
       " 'a',\n",
       " 'a',\n",
       " 'a',\n",
       " 'a',\n",
       " 'a',\n",
       " 'a',\n",
       " 'a',\n",
       " 'a',\n",
       " 'a',\n",
       " 'a',\n",
       " 'a',\n",
       " 'a',\n",
       " 'a',\n",
       " 'a',\n",
       " 'a',\n",
       " 'a',\n",
       " 'a',\n",
       " 'a',\n",
       " 'a',\n",
       " 'a',\n",
       " 'a',\n",
       " 'a',\n",
       " 'a',\n",
       " 'a',\n",
       " 'a',\n",
       " 'a',\n",
       " 'a',\n",
       " 'a',\n",
       " 'a',\n",
       " 'a',\n",
       " 'a']"
      ]
     },
     "execution_count": 23,
     "metadata": {},
     "output_type": "execute_result"
    }
   ],
   "source": [
    "['a' for i in range(50)]"
   ]
  },
  {
   "cell_type": "code",
   "execution_count": null,
   "id": "382df168-7dcb-4d03-992b-81d7af9d600e",
   "metadata": {},
   "outputs": [],
   "source": []
  },
  {
   "cell_type": "code",
   "execution_count": null,
   "id": "80e8107b-0d7a-4087-893d-6e69a1eb1fbb",
   "metadata": {},
   "outputs": [],
   "source": []
  },
  {
   "cell_type": "code",
   "execution_count": 44,
   "id": "81e3f8fd-3103-4db8-af3d-200de1f813ad",
   "metadata": {
    "tags": []
   },
   "outputs": [],
   "source": [
    "a = [1,2,3,4,5]\n",
    "b = [7,8,9,0,2]\n",
    "\n",
    "c = ['a','a','b','b','b']\n",
    "df2 = pd.DataFrame({'a':a,'b':b,'c':c})\n",
    "\n"
   ]
  },
  {
   "cell_type": "code",
   "execution_count": 47,
   "id": "4dd8be32-92af-4c09-8368-08468c70ddef",
   "metadata": {
    "tags": []
   },
   "outputs": [
    {
     "data": {
      "text/html": [
       "<div>\n",
       "<style scoped>\n",
       "    .dataframe tbody tr th:only-of-type {\n",
       "        vertical-align: middle;\n",
       "    }\n",
       "\n",
       "    .dataframe tbody tr th {\n",
       "        vertical-align: top;\n",
       "    }\n",
       "\n",
       "    .dataframe thead th {\n",
       "        text-align: right;\n",
       "    }\n",
       "</style>\n",
       "<table border=\"1\" class=\"dataframe\">\n",
       "  <thead>\n",
       "    <tr style=\"text-align: right;\">\n",
       "      <th></th>\n",
       "      <th>a</th>\n",
       "      <th>b</th>\n",
       "      <th>c</th>\n",
       "    </tr>\n",
       "  </thead>\n",
       "  <tbody>\n",
       "    <tr>\n",
       "      <th>0</th>\n",
       "      <td>1</td>\n",
       "      <td>7</td>\n",
       "      <td>a</td>\n",
       "    </tr>\n",
       "    <tr>\n",
       "      <th>1</th>\n",
       "      <td>2</td>\n",
       "      <td>8</td>\n",
       "      <td>a</td>\n",
       "    </tr>\n",
       "    <tr>\n",
       "      <th>2</th>\n",
       "      <td>3</td>\n",
       "      <td>9</td>\n",
       "      <td>b</td>\n",
       "    </tr>\n",
       "    <tr>\n",
       "      <th>3</th>\n",
       "      <td>4</td>\n",
       "      <td>0</td>\n",
       "      <td>b</td>\n",
       "    </tr>\n",
       "    <tr>\n",
       "      <th>4</th>\n",
       "      <td>5</td>\n",
       "      <td>2</td>\n",
       "      <td>b</td>\n",
       "    </tr>\n",
       "  </tbody>\n",
       "</table>\n",
       "</div>"
      ],
      "text/plain": [
       "   a  b  c\n",
       "0  1  7  a\n",
       "1  2  8  a\n",
       "2  3  9  b\n",
       "3  4  0  b\n",
       "4  5  2  b"
      ]
     },
     "execution_count": 47,
     "metadata": {},
     "output_type": "execute_result"
    }
   ],
   "source": [
    "df2"
   ]
  },
  {
   "cell_type": "code",
   "execution_count": 48,
   "id": "aeffa064-da35-49e8-94bc-f37ee2704c67",
   "metadata": {
    "tags": []
   },
   "outputs": [
    {
     "data": {
      "text/html": [
       "<div>\n",
       "<style scoped>\n",
       "    .dataframe tbody tr th:only-of-type {\n",
       "        vertical-align: middle;\n",
       "    }\n",
       "\n",
       "    .dataframe tbody tr th {\n",
       "        vertical-align: top;\n",
       "    }\n",
       "\n",
       "    .dataframe thead th {\n",
       "        text-align: right;\n",
       "    }\n",
       "</style>\n",
       "<table border=\"1\" class=\"dataframe\">\n",
       "  <thead>\n",
       "    <tr style=\"text-align: right;\">\n",
       "      <th></th>\n",
       "      <th>a</th>\n",
       "      <th>c</th>\n",
       "    </tr>\n",
       "  </thead>\n",
       "  <tbody>\n",
       "    <tr>\n",
       "      <th>0</th>\n",
       "      <td>1</td>\n",
       "      <td>a</td>\n",
       "    </tr>\n",
       "    <tr>\n",
       "      <th>1</th>\n",
       "      <td>2</td>\n",
       "      <td>a</td>\n",
       "    </tr>\n",
       "    <tr>\n",
       "      <th>2</th>\n",
       "      <td>3</td>\n",
       "      <td>b</td>\n",
       "    </tr>\n",
       "    <tr>\n",
       "      <th>3</th>\n",
       "      <td>4</td>\n",
       "      <td>b</td>\n",
       "    </tr>\n",
       "    <tr>\n",
       "      <th>4</th>\n",
       "      <td>5</td>\n",
       "      <td>b</td>\n",
       "    </tr>\n",
       "    <tr>\n",
       "      <th>5</th>\n",
       "      <td>7</td>\n",
       "      <td>a</td>\n",
       "    </tr>\n",
       "    <tr>\n",
       "      <th>6</th>\n",
       "      <td>8</td>\n",
       "      <td>a</td>\n",
       "    </tr>\n",
       "    <tr>\n",
       "      <th>7</th>\n",
       "      <td>9</td>\n",
       "      <td>b</td>\n",
       "    </tr>\n",
       "    <tr>\n",
       "      <th>8</th>\n",
       "      <td>0</td>\n",
       "      <td>b</td>\n",
       "    </tr>\n",
       "    <tr>\n",
       "      <th>9</th>\n",
       "      <td>2</td>\n",
       "      <td>b</td>\n",
       "    </tr>\n",
       "  </tbody>\n",
       "</table>\n",
       "</div>"
      ],
      "text/plain": [
       "   a  c\n",
       "0  1  a\n",
       "1  2  a\n",
       "2  3  b\n",
       "3  4  b\n",
       "4  5  b\n",
       "5  7  a\n",
       "6  8  a\n",
       "7  9  b\n",
       "8  0  b\n",
       "9  2  b"
      ]
     },
     "execution_count": 48,
     "metadata": {},
     "output_type": "execute_result"
    }
   ],
   "source": [
    "df = pd.DataFrame({'a':a+b,'c':c+c})\n",
    "df#same as melt"
   ]
  },
  {
   "cell_type": "code",
   "execution_count": 38,
   "id": "84602c0d-0dad-4037-8c97-a1aa2082ab3d",
   "metadata": {
    "tags": []
   },
   "outputs": [],
   "source": [
    "df['월']=5"
   ]
  },
  {
   "cell_type": "code",
   "execution_count": 49,
   "id": "8c7d0d70-d249-4a48-84b1-e7d0c4d33815",
   "metadata": {
    "tags": []
   },
   "outputs": [
    {
     "data": {
      "text/html": [
       "<div>\n",
       "<style scoped>\n",
       "    .dataframe tbody tr th:only-of-type {\n",
       "        vertical-align: middle;\n",
       "    }\n",
       "\n",
       "    .dataframe tbody tr th {\n",
       "        vertical-align: top;\n",
       "    }\n",
       "\n",
       "    .dataframe thead th {\n",
       "        text-align: right;\n",
       "    }\n",
       "</style>\n",
       "<table border=\"1\" class=\"dataframe\">\n",
       "  <thead>\n",
       "    <tr style=\"text-align: right;\">\n",
       "      <th></th>\n",
       "      <th>a</th>\n",
       "      <th>c_x</th>\n",
       "      <th>b</th>\n",
       "      <th>c_y</th>\n",
       "    </tr>\n",
       "  </thead>\n",
       "  <tbody>\n",
       "    <tr>\n",
       "      <th>0</th>\n",
       "      <td>1</td>\n",
       "      <td>a</td>\n",
       "      <td>7.0</td>\n",
       "      <td>a</td>\n",
       "    </tr>\n",
       "    <tr>\n",
       "      <th>1</th>\n",
       "      <td>2</td>\n",
       "      <td>a</td>\n",
       "      <td>8.0</td>\n",
       "      <td>a</td>\n",
       "    </tr>\n",
       "    <tr>\n",
       "      <th>2</th>\n",
       "      <td>3</td>\n",
       "      <td>b</td>\n",
       "      <td>9.0</td>\n",
       "      <td>b</td>\n",
       "    </tr>\n",
       "    <tr>\n",
       "      <th>3</th>\n",
       "      <td>4</td>\n",
       "      <td>b</td>\n",
       "      <td>0.0</td>\n",
       "      <td>b</td>\n",
       "    </tr>\n",
       "    <tr>\n",
       "      <th>4</th>\n",
       "      <td>5</td>\n",
       "      <td>b</td>\n",
       "      <td>2.0</td>\n",
       "      <td>b</td>\n",
       "    </tr>\n",
       "    <tr>\n",
       "      <th>5</th>\n",
       "      <td>7</td>\n",
       "      <td>a</td>\n",
       "      <td>NaN</td>\n",
       "      <td>NaN</td>\n",
       "    </tr>\n",
       "    <tr>\n",
       "      <th>6</th>\n",
       "      <td>8</td>\n",
       "      <td>a</td>\n",
       "      <td>NaN</td>\n",
       "      <td>NaN</td>\n",
       "    </tr>\n",
       "    <tr>\n",
       "      <th>7</th>\n",
       "      <td>9</td>\n",
       "      <td>b</td>\n",
       "      <td>NaN</td>\n",
       "      <td>NaN</td>\n",
       "    </tr>\n",
       "    <tr>\n",
       "      <th>8</th>\n",
       "      <td>0</td>\n",
       "      <td>b</td>\n",
       "      <td>NaN</td>\n",
       "      <td>NaN</td>\n",
       "    </tr>\n",
       "    <tr>\n",
       "      <th>9</th>\n",
       "      <td>2</td>\n",
       "      <td>b</td>\n",
       "      <td>8.0</td>\n",
       "      <td>a</td>\n",
       "    </tr>\n",
       "  </tbody>\n",
       "</table>\n",
       "</div>"
      ],
      "text/plain": [
       "   a c_x    b  c_y\n",
       "0  1   a  7.0    a\n",
       "1  2   a  8.0    a\n",
       "2  3   b  9.0    b\n",
       "3  4   b  0.0    b\n",
       "4  5   b  2.0    b\n",
       "5  7   a  NaN  NaN\n",
       "6  8   a  NaN  NaN\n",
       "7  9   b  NaN  NaN\n",
       "8  0   b  NaN  NaN\n",
       "9  2   b  8.0    a"
      ]
     },
     "execution_count": 49,
     "metadata": {},
     "output_type": "execute_result"
    }
   ],
   "source": [
    "df.merge(df2,on='a',how='left')"
   ]
  },
  {
   "cell_type": "code",
   "execution_count": null,
   "id": "450a8dac-6b98-4d58-ac48-d07be5a54d4c",
   "metadata": {},
   "outputs": [],
   "source": []
  },
  {
   "cell_type": "code",
   "execution_count": 40,
   "id": "4c70fbd2-4b46-4d5c-9ad7-89cfe980d245",
   "metadata": {
    "tags": []
   },
   "outputs": [],
   "source": [
    "df.to_csv('qd.csv',index=False)"
   ]
  },
  {
   "cell_type": "code",
   "execution_count": 8,
   "id": "32dbf2c1-5d22-4199-a61e-dacab1c2d346",
   "metadata": {
    "tags": []
   },
   "outputs": [
    {
     "data": {
      "text/plain": [
       "a    15\n",
       "b    26\n",
       "dtype: int64"
      ]
     },
     "execution_count": 8,
     "metadata": {},
     "output_type": "execute_result"
    }
   ],
   "source": [
    "df.sum(axis=0)"
   ]
  },
  {
   "cell_type": "code",
   "execution_count": 6,
   "id": "d5d54692-409d-47f0-8e27-506bcb57caa6",
   "metadata": {
    "tags": []
   },
   "outputs": [
    {
     "data": {
      "text/plain": [
       "0     8\n",
       "1    10\n",
       "2    12\n",
       "3     4\n",
       "4     7\n",
       "dtype: int64"
      ]
     },
     "execution_count": 6,
     "metadata": {},
     "output_type": "execute_result"
    }
   ],
   "source": [
    "df.sum(axis=1)"
   ]
  },
  {
   "cell_type": "code",
   "execution_count": 12,
   "id": "fd79ef81-b59c-4c76-9b80-ca85cf378bf6",
   "metadata": {
    "tags": []
   },
   "outputs": [
    {
     "data": {
      "text/html": [
       "<div>\n",
       "<style scoped>\n",
       "    .dataframe tbody tr th:only-of-type {\n",
       "        vertical-align: middle;\n",
       "    }\n",
       "\n",
       "    .dataframe tbody tr th {\n",
       "        vertical-align: top;\n",
       "    }\n",
       "\n",
       "    .dataframe thead th {\n",
       "        text-align: right;\n",
       "    }\n",
       "</style>\n",
       "<table border=\"1\" class=\"dataframe\">\n",
       "  <thead>\n",
       "    <tr style=\"text-align: right;\">\n",
       "      <th></th>\n",
       "      <th>a</th>\n",
       "      <th>b</th>\n",
       "    </tr>\n",
       "  </thead>\n",
       "  <tbody>\n",
       "    <tr>\n",
       "      <th>4</th>\n",
       "      <td>5</td>\n",
       "      <td>2</td>\n",
       "    </tr>\n",
       "  </tbody>\n",
       "</table>\n",
       "</div>"
      ],
      "text/plain": [
       "   a  b\n",
       "4  5  2"
      ]
     },
     "execution_count": 12,
     "metadata": {},
     "output_type": "execute_result"
    }
   ],
   "source": [
    "df.loc[df['a']==5,:]"
   ]
  },
  {
   "cell_type": "code",
   "execution_count": 16,
   "id": "28c43396-2ab7-4e07-aab2-7fa2439b3a39",
   "metadata": {
    "tags": []
   },
   "outputs": [
    {
     "data": {
      "text/plain": [
       "0     7\n",
       "1    16\n",
       "2    27\n",
       "3     0\n",
       "4    10\n",
       "dtype: int64"
      ]
     },
     "execution_count": 16,
     "metadata": {},
     "output_type": "execute_result"
    }
   ],
   "source": [
    "def applier(x):\n",
    "    a1 = x[0]*x[1]\n",
    "    return a1\n",
    "df.apply(lambda x:applier(x),axis=1)"
   ]
  },
  {
   "cell_type": "code",
   "execution_count": 17,
   "id": "b2d6bed4-09cb-4e52-bc62-944d8edc7780",
   "metadata": {
    "tags": []
   },
   "outputs": [
    {
     "data": {
      "text/plain": [
       "0     7\n",
       "1    16\n",
       "2    27\n",
       "3     0\n",
       "4    10\n",
       "dtype: int64"
      ]
     },
     "execution_count": 17,
     "metadata": {},
     "output_type": "execute_result"
    }
   ],
   "source": [
    "df['a']*df['b']"
   ]
  },
  {
   "cell_type": "code",
   "execution_count": 18,
   "id": "e2267342-65f3-4f21-b63a-a4c67cb4e123",
   "metadata": {
    "tags": []
   },
   "outputs": [
    {
     "data": {
      "text/html": [
       "<div>\n",
       "<style scoped>\n",
       "    .dataframe tbody tr th:only-of-type {\n",
       "        vertical-align: middle;\n",
       "    }\n",
       "\n",
       "    .dataframe tbody tr th {\n",
       "        vertical-align: top;\n",
       "    }\n",
       "\n",
       "    .dataframe thead th {\n",
       "        text-align: right;\n",
       "    }\n",
       "</style>\n",
       "<table border=\"1\" class=\"dataframe\">\n",
       "  <thead>\n",
       "    <tr style=\"text-align: right;\">\n",
       "      <th></th>\n",
       "      <th>a</th>\n",
       "      <th>b</th>\n",
       "    </tr>\n",
       "  </thead>\n",
       "  <tbody>\n",
       "    <tr>\n",
       "      <th>1</th>\n",
       "      <td>2</td>\n",
       "      <td>8</td>\n",
       "    </tr>\n",
       "    <tr>\n",
       "      <th>2</th>\n",
       "      <td>3</td>\n",
       "      <td>9</td>\n",
       "    </tr>\n",
       "    <tr>\n",
       "      <th>3</th>\n",
       "      <td>4</td>\n",
       "      <td>0</td>\n",
       "    </tr>\n",
       "    <tr>\n",
       "      <th>4</th>\n",
       "      <td>5</td>\n",
       "      <td>2</td>\n",
       "    </tr>\n",
       "  </tbody>\n",
       "</table>\n",
       "</div>"
      ],
      "text/plain": [
       "   a  b\n",
       "1  2  8\n",
       "2  3  9\n",
       "3  4  0\n",
       "4  5  2"
      ]
     },
     "execution_count": 18,
     "metadata": {},
     "output_type": "execute_result"
    }
   ],
   "source": [
    "df.iloc[1:,]"
   ]
  },
  {
   "cell_type": "code",
   "execution_count": 21,
   "id": "2da348eb-a4bb-4462-a2e4-81b2bc9ab1dd",
   "metadata": {
    "tags": []
   },
   "outputs": [
    {
     "data": {
      "text/html": [
       "<div>\n",
       "<style scoped>\n",
       "    .dataframe tbody tr th:only-of-type {\n",
       "        vertical-align: middle;\n",
       "    }\n",
       "\n",
       "    .dataframe tbody tr th {\n",
       "        vertical-align: top;\n",
       "    }\n",
       "\n",
       "    .dataframe thead th {\n",
       "        text-align: right;\n",
       "    }\n",
       "</style>\n",
       "<table border=\"1\" class=\"dataframe\">\n",
       "  <thead>\n",
       "    <tr style=\"text-align: right;\">\n",
       "      <th></th>\n",
       "      <th>a</th>\n",
       "      <th>b</th>\n",
       "    </tr>\n",
       "    <tr>\n",
       "      <th>c</th>\n",
       "      <th></th>\n",
       "      <th></th>\n",
       "    </tr>\n",
       "  </thead>\n",
       "  <tbody>\n",
       "    <tr>\n",
       "      <th>a</th>\n",
       "      <td>3</td>\n",
       "      <td>15</td>\n",
       "    </tr>\n",
       "    <tr>\n",
       "      <th>b</th>\n",
       "      <td>12</td>\n",
       "      <td>11</td>\n",
       "    </tr>\n",
       "  </tbody>\n",
       "</table>\n",
       "</div>"
      ],
      "text/plain": [
       "    a   b\n",
       "c        \n",
       "a   3  15\n",
       "b  12  11"
      ]
     },
     "execution_count": 21,
     "metadata": {},
     "output_type": "execute_result"
    }
   ],
   "source": [
    "df.groupby(['c']).sum()"
   ]
  },
  {
   "cell_type": "code",
   "execution_count": 22,
   "id": "f3ecc917-202a-4652-951a-a833ea7cd7b7",
   "metadata": {
    "tags": []
   },
   "outputs": [
    {
     "data": {
      "text/html": [
       "<div>\n",
       "<style scoped>\n",
       "    .dataframe tbody tr th:only-of-type {\n",
       "        vertical-align: middle;\n",
       "    }\n",
       "\n",
       "    .dataframe tbody tr th {\n",
       "        vertical-align: top;\n",
       "    }\n",
       "\n",
       "    .dataframe thead th {\n",
       "        text-align: right;\n",
       "    }\n",
       "</style>\n",
       "<table border=\"1\" class=\"dataframe\">\n",
       "  <thead>\n",
       "    <tr style=\"text-align: right;\">\n",
       "      <th>c</th>\n",
       "      <th>a</th>\n",
       "      <th>b</th>\n",
       "    </tr>\n",
       "  </thead>\n",
       "  <tbody>\n",
       "    <tr>\n",
       "      <th>a</th>\n",
       "      <td>3</td>\n",
       "      <td>12</td>\n",
       "    </tr>\n",
       "    <tr>\n",
       "      <th>b</th>\n",
       "      <td>15</td>\n",
       "      <td>11</td>\n",
       "    </tr>\n",
       "  </tbody>\n",
       "</table>\n",
       "</div>"
      ],
      "text/plain": [
       "c   a   b\n",
       "a   3  12\n",
       "b  15  11"
      ]
     },
     "execution_count": 22,
     "metadata": {},
     "output_type": "execute_result"
    }
   ],
   "source": [
    "df.pivot_table(index = None,columns=['c'],aggfunc=sum)"
   ]
  },
  {
   "cell_type": "code",
   "execution_count": 242,
   "id": "401809ca-f607-489b-a345-e096cae17bed",
   "metadata": {
    "tags": []
   },
   "outputs": [
    {
     "data": {
      "text/plain": [
       "array([[1, 7, 'a'],\n",
       "       [2, 8, 'a'],\n",
       "       [3, 9, 'b'],\n",
       "       [4, 0, 'b'],\n",
       "       [5, 2, 'b']], dtype=object)"
      ]
     },
     "execution_count": 242,
     "metadata": {},
     "output_type": "execute_result"
    }
   ],
   "source": [
    "np.array(df)"
   ]
  },
  {
   "cell_type": "code",
   "execution_count": 27,
   "id": "56632d83-4811-4bd7-ac1a-469a68055987",
   "metadata": {
    "tags": []
   },
   "outputs": [
    {
     "data": {
      "text/html": [
       "<div>\n",
       "<style scoped>\n",
       "    .dataframe tbody tr th:only-of-type {\n",
       "        vertical-align: middle;\n",
       "    }\n",
       "\n",
       "    .dataframe tbody tr th {\n",
       "        vertical-align: top;\n",
       "    }\n",
       "\n",
       "    .dataframe thead th {\n",
       "        text-align: right;\n",
       "    }\n",
       "</style>\n",
       "<table border=\"1\" class=\"dataframe\">\n",
       "  <thead>\n",
       "    <tr style=\"text-align: right;\">\n",
       "      <th></th>\n",
       "      <th>a</th>\n",
       "      <th>b</th>\n",
       "    </tr>\n",
       "    <tr>\n",
       "      <th>c</th>\n",
       "      <th></th>\n",
       "      <th></th>\n",
       "    </tr>\n",
       "  </thead>\n",
       "  <tbody>\n",
       "    <tr>\n",
       "      <th>a</th>\n",
       "      <td>3</td>\n",
       "      <td>15</td>\n",
       "    </tr>\n",
       "    <tr>\n",
       "      <th>b</th>\n",
       "      <td>12</td>\n",
       "      <td>11</td>\n",
       "    </tr>\n",
       "  </tbody>\n",
       "</table>\n",
       "</div>"
      ],
      "text/plain": [
       "    a   b\n",
       "c        \n",
       "a   3  15\n",
       "b  12  11"
      ]
     },
     "execution_count": 27,
     "metadata": {},
     "output_type": "execute_result"
    }
   ],
   "source": [
    "df.pivot_table(index = ['c'],columns=None,aggfunc=sum)"
   ]
  },
  {
   "cell_type": "markdown",
   "id": "9c8f7742-0164-45f7-8c12-0245f4afad51",
   "metadata": {},
   "source": [
    "%md\n",
    "\n",
    "# 1. This is my first documentation in jupyterlab\n",
    "- hi"
   ]
  },
  {
   "cell_type": "code",
   "execution_count": 82,
   "id": "f7340cfb-e6a2-4739-8fcc-0dbbf5b1f88a",
   "metadata": {
    "tags": []
   },
   "outputs": [],
   "source": [
    "# del class_loader"
   ]
  },
  {
   "cell_type": "code",
   "execution_count": 134,
   "id": "c6e30207-3c8d-4c13-b150-2e9b40a530f8",
   "metadata": {
    "tags": []
   },
   "outputs": [],
   "source": [
    "from class_loader_f import class_loader"
   ]
  },
  {
   "cell_type": "code",
   "execution_count": 111,
   "id": "ce703f38-32a9-49b7-b841-9b07c37dd397",
   "metadata": {
    "tags": []
   },
   "outputs": [
    {
     "ename": "NameError",
     "evalue": "name 'python' is not defined",
     "output_type": "error",
     "traceback": [
      "\u001b[0;31m---------------------------------------------------------------------------\u001b[0m",
      "\u001b[0;31mNameError\u001b[0m                                 Traceback (most recent call last)",
      "Cell \u001b[0;32mIn[111], line 1\u001b[0m\n\u001b[0;32m----> 1\u001b[0m \u001b[43mpython\u001b[49m\n",
      "\u001b[0;31mNameError\u001b[0m: name 'python' is not defined"
     ]
    }
   ],
   "source": [
    "python"
   ]
  },
  {
   "cell_type": "code",
   "execution_count": 52,
   "id": "6c8fb1eb-366d-4764-89b1-11441208e291",
   "metadata": {
    "tags": []
   },
   "outputs": [],
   "source": [
    "a = class_loader.MyFirstClass()"
   ]
  },
  {
   "cell_type": "code",
   "execution_count": 53,
   "id": "64bf9d1b-360e-45f1-954b-590ead719a81",
   "metadata": {
    "tags": []
   },
   "outputs": [
    {
     "name": "stdout",
     "output_type": "stream",
     "text": [
      "my first_method working\n"
     ]
    },
    {
     "data": {
      "text/plain": [
       "15"
      ]
     },
     "execution_count": 53,
     "metadata": {},
     "output_type": "execute_result"
    }
   ],
   "source": [
    "a.first_method()"
   ]
  },
  {
   "cell_type": "code",
   "execution_count": 54,
   "id": "9e10ee89-c9bc-4480-8a81-c0eca2b79775",
   "metadata": {
    "tags": []
   },
   "outputs": [
    {
     "name": "stdout",
     "output_type": "stream",
     "text": [
      "my second method working\n"
     ]
    },
    {
     "data": {
      "text/plain": [
       "13.0"
      ]
     },
     "execution_count": 54,
     "metadata": {},
     "output_type": "execute_result"
    }
   ],
   "source": [
    "a.second_method()"
   ]
  },
  {
   "cell_type": "code",
   "execution_count": 56,
   "id": "56f6c98f-39b9-437f-979b-2beb86b1bc24",
   "metadata": {
    "tags": []
   },
   "outputs": [
    {
     "name": "stdout",
     "output_type": "stream",
     "text": [
      "my third method working\n"
     ]
    }
   ],
   "source": [
    "a.third_method()"
   ]
  },
  {
   "cell_type": "code",
   "execution_count": 141,
   "id": "a656fa0b-3aa8-45e1-8713-51c9e99a508b",
   "metadata": {
    "tags": []
   },
   "outputs": [],
   "source": [
    "a = class_loader.MyThirdClass(1,2)"
   ]
  },
  {
   "cell_type": "code",
   "execution_count": null,
   "id": "4176e269-9e27-41d2-aaf4-badd6a2d766a",
   "metadata": {},
   "outputs": [],
   "source": []
  },
  {
   "cell_type": "code",
   "execution_count": 107,
   "id": "e0720d08-b056-43c3-ba00-6733905975f6",
   "metadata": {
    "tags": []
   },
   "outputs": [
    {
     "data": {
      "text/plain": [
       "9"
      ]
     },
     "execution_count": 107,
     "metadata": {},
     "output_type": "execute_result"
    }
   ],
   "source": [
    "a.calculate_multiplying_sum_by_z(3)"
   ]
  },
  {
   "cell_type": "code",
   "execution_count": 167,
   "id": "c544bee2-241a-49e2-b2bc-40553d3298f5",
   "metadata": {
    "tags": []
   },
   "outputs": [],
   "source": [
    "a= class_loader.MyFourthClass('tadsfsd')"
   ]
  },
  {
   "cell_type": "code",
   "execution_count": 169,
   "id": "81fda459-bf7f-45d6-9fc9-6e05176915a5",
   "metadata": {
    "tags": []
   },
   "outputs": [
    {
     "data": {
      "text/plain": [
       "'q'"
      ]
     },
     "execution_count": 169,
     "metadata": {},
     "output_type": "execute_result"
    }
   ],
   "source": [
    "'Q'.lower()"
   ]
  },
  {
   "cell_type": "code",
   "execution_count": 202,
   "id": "32ce4745-d5b4-4c35-879e-7006715adb65",
   "metadata": {
    "tags": []
   },
   "outputs": [],
   "source": [
    "class MyFourthClass(str):\n",
    "    import re\n",
    "    def __init__(self, \n",
    "                 text\n",
    "                ):\n",
    "        self.text = text\n",
    "        self.result = self.my_custom_concat(self.my_custom_lower(text))\n",
    "    # override the builtin lower() method\n",
    "    def my_custom_lower(self,text):\n",
    "        # inherit the original lower()'s return value..? which is from the built-in str class\n",
    "        init_txt = text.lower()\n",
    "        return init_txt\n",
    "    def my_custom_concat(self,text):\n",
    "        init_txt = re.sub(' ','',text)\n",
    "        return init_txt\n",
    "        \n"
   ]
  },
  {
   "cell_type": "code",
   "execution_count": 203,
   "id": "5a6943b0-bf59-4fbd-901c-2186883cd06d",
   "metadata": {
    "tags": []
   },
   "outputs": [
    {
     "data": {
      "text/plain": [
       "'qwdqwdqwdwqfwefewfwfwefewfqwe123'"
      ]
     },
     "execution_count": 203,
     "metadata": {},
     "output_type": "execute_result"
    }
   ],
   "source": [
    "a = MyFourthClass('qWDQWDQWDWQfwefewf wfwef ewfqwe123')\n",
    "\n",
    "a.result"
   ]
  },
  {
   "cell_type": "code",
   "execution_count": 209,
   "id": "8d04af52-bf57-4419-9f33-e43ee28b7fa4",
   "metadata": {
    "tags": []
   },
   "outputs": [
    {
     "data": {
      "text/plain": [
       "'qWDQWDQWDWQfwefewfwfwefewfqwe123'"
      ]
     },
     "execution_count": 209,
     "metadata": {},
     "output_type": "execute_result"
    }
   ],
   "source": [
    "a = []\n",
    "b = ''\n",
    "for i in 'qWDQWDQWDWQfwefewf wfwef ewfqwe123'.split(' '):\n",
    "    b+=i\n",
    "b"
   ]
  },
  {
   "cell_type": "code",
   "execution_count": 213,
   "id": "48ec0483-baba-466e-ae40-5f1693512091",
   "metadata": {
    "tags": []
   },
   "outputs": [
    {
     "data": {
      "text/plain": [
       "'qwdqwdqwdwqfwefewfwfwefewfqwe123'"
      ]
     },
     "execution_count": 213,
     "metadata": {},
     "output_type": "execute_result"
    }
   ],
   "source": [
    "''.join([i for i in 'qWDQWDQWDWQfwefewf wfwef ewfqwe123'.split(' ')]).lower()"
   ]
  },
  {
   "cell_type": "code",
   "execution_count": 217,
   "id": "a5680832-51c6-4c53-a158-b63ad9924488",
   "metadata": {
    "tags": []
   },
   "outputs": [],
   "source": [
    "b = {ind:i for ind,i in enumerate('qWDQWDQWDWQfwefewf wfwef ewfqwe123'.split(' ') ) }"
   ]
  },
  {
   "cell_type": "code",
   "execution_count": 226,
   "id": "8655d420-93ed-4494-8bf5-388769de14f7",
   "metadata": {
    "tags": []
   },
   "outputs": [
    {
     "name": "stdout",
     "output_type": "stream",
     "text": [
      "(0, 'qWDQWDQWDWQfwefewf')\n",
      "(1, 'wfwef')\n",
      "(2, 'ewfqwe123')\n"
     ]
    }
   ],
   "source": [
    "for i in b.items():\n",
    "    i"
   ]
  },
  {
   "cell_type": "code",
   "execution_count": 229,
   "id": "acb301c4-a6b4-4835-aae2-169501aaa1f6",
   "metadata": {
    "tags": []
   },
   "outputs": [
    {
     "name": "stdout",
     "output_type": "stream",
     "text": [
      "193 ns ± 5.08 ns per loop (mean ± std. dev. of 7 runs, 1,000,000 loops each)\n"
     ]
    }
   ],
   "source": [
    "%%timeit\n",
    "\n",
    "for i in b.items():\n",
    "    i"
   ]
  },
  {
   "cell_type": "code",
   "execution_count": 230,
   "id": "4778de0a-e4a6-40f6-ac9f-0edc3875a9ca",
   "metadata": {
    "tags": []
   },
   "outputs": [],
   "source": [
    "a = {1,2,3}"
   ]
  },
  {
   "cell_type": "code",
   "execution_count": 232,
   "id": "49954aff-c476-4a7c-bbf0-976fc8d8495e",
   "metadata": {
    "tags": []
   },
   "outputs": [
    {
     "name": "stdout",
     "output_type": "stream",
     "text": [
      "31.7 ns ± 0.721 ns per loop (mean ± std. dev. of 7 runs, 10,000,000 loops each)\n"
     ]
    }
   ],
   "source": [
    "%%timeit\n",
    "1 in a"
   ]
  },
  {
   "cell_type": "code",
   "execution_count": 233,
   "id": "18290cab-f0dc-48ca-8afc-dfa518e9cf9e",
   "metadata": {
    "tags": []
   },
   "outputs": [],
   "source": [
    "a = [1,2,3]"
   ]
  },
  {
   "cell_type": "code",
   "execution_count": 234,
   "id": "23f022d7-713f-4927-bedd-c0e9f8f5a2aa",
   "metadata": {
    "tags": []
   },
   "outputs": [
    {
     "name": "stdout",
     "output_type": "stream",
     "text": [
      "30.9 ns ± 0.463 ns per loop (mean ± std. dev. of 7 runs, 10,000,000 loops each)\n"
     ]
    }
   ],
   "source": [
    "%%timeit\n",
    "1 in a"
   ]
  },
  {
   "cell_type": "code",
   "execution_count": 256,
   "id": "cee5a23a-9f8d-4dd2-a480-b39768966751",
   "metadata": {
    "tags": []
   },
   "outputs": [
    {
     "name": "stdout",
     "output_type": "stream",
     "text": [
      "b\n"
     ]
    }
   ],
   "source": [
    "bb = re.search('a','qwdqwdqwd23wdwqdwqdqwd')\n",
    "if bb is not None:\n",
    "    print('s')\n",
    "else:\n",
    "    print('b')\n",
    "\n"
   ]
  },
  {
   "cell_type": "code",
   "execution_count": 254,
   "id": "d0a2e674-ce6d-4129-b131-3f6567d57498",
   "metadata": {
    "tags": []
   },
   "outputs": [
    {
     "data": {
      "text/plain": [
       "True"
      ]
     },
     "execution_count": 254,
     "metadata": {},
     "output_type": "execute_result"
    }
   ],
   "source": [
    "pass;\n",
    "continue;\n",
    "break;\n",
    "\n"
   ]
  },
  {
   "cell_type": "code",
   "execution_count": 259,
   "id": "d58d56b8-342c-4f87-aaa1-fbf0c7c59429",
   "metadata": {
    "tags": []
   },
   "outputs": [],
   "source": [
    "import typing"
   ]
  },
  {
   "cell_type": "code",
   "execution_count": 334,
   "id": "a6620979-a1c8-475a-be4e-7c92b5f239a9",
   "metadata": {
    "tags": []
   },
   "outputs": [],
   "source": [
    "class m:\n",
    "    def __init__(self,\n",
    "                 c,\n",
    "                 a=9,\n",
    "                 b=1,\n",
    "                 \n",
    "                 *args, **kwargs,\n",
    "                ):\n",
    "        print(kwargs,**kwargs)\n",
    "        self.a = a+b+c\n",
    "        self.d = kwargs"
   ]
  },
  {
   "cell_type": "code",
   "execution_count": 307,
   "id": "c3b30304-758a-44fb-8842-4088a7cb6a62",
   "metadata": {
    "tags": []
   },
   "outputs": [
    {
     "data": {
      "text/plain": [
       "11"
      ]
     },
     "execution_count": 307,
     "metadata": {},
     "output_type": "execute_result"
    }
   ],
   "source": [
    "m(1).a"
   ]
  },
  {
   "cell_type": "code",
   "execution_count": 308,
   "id": "12a04b66-d247-4052-b170-c17bc49e8118",
   "metadata": {
    "tags": []
   },
   "outputs": [
    {
     "data": {
      "text/plain": [
       "5"
      ]
     },
     "execution_count": 308,
     "metadata": {},
     "output_type": "execute_result"
    }
   ],
   "source": [
    "m(1,2,2).a"
   ]
  },
  {
   "cell_type": "code",
   "execution_count": null,
   "id": "b8d0e2bc-064c-4b3b-9f6c-4de972353fe8",
   "metadata": {},
   "outputs": [],
   "source": []
  },
  {
   "cell_type": "code",
   "execution_count": null,
   "id": "9f1ad00e-c6ca-4534-836d-ba76ff06d1c2",
   "metadata": {},
   "outputs": [],
   "source": []
  },
  {
   "cell_type": "code",
   "execution_count": 344,
   "id": "dbd2711c-5b73-4def-8b8f-b2f4613b40a8",
   "metadata": {
    "tags": []
   },
   "outputs": [
    {
     "name": "stdout",
     "output_type": "stream",
     "text": [
      "{'banana': 5, 'mango': 7, 'apple': 8} <class 'dict'>\n"
     ]
    }
   ],
   "source": [
    "def total_fruits(**kwargs):\n",
    "    print(kwargs, type(kwargs))\n",
    "\n",
    "\n",
    "total_fruits(banana=5, mango=7, apple=8)"
   ]
  },
  {
   "cell_type": "code",
   "execution_count": 400,
   "id": "92bb9fac-eae5-4e7a-831c-1980e6240568",
   "metadata": {
    "tags": []
   },
   "outputs": [],
   "source": [
    "class m:\n",
    "    def __init__(self,\n",
    "                 # c=1,\n",
    "                 *args,**kwarg\n",
    "                ):\n",
    "        print(args)\n",
    "        print( sum([i for i in args]))\n"
   ]
  },
  {
   "cell_type": "code",
   "execution_count": 401,
   "id": "8815da5b-e878-45ee-b12d-6758bf1fc8bc",
   "metadata": {
    "tags": []
   },
   "outputs": [
    {
     "name": "stdout",
     "output_type": "stream",
     "text": [
      "(1, 2, 3, 123, 12, 312, 3, 213, 12)\n",
      "681\n"
     ]
    },
    {
     "data": {
      "text/plain": [
       "<__main__.m at 0x115254790>"
      ]
     },
     "execution_count": 401,
     "metadata": {},
     "output_type": "execute_result"
    }
   ],
   "source": [
    "\n",
    "m(1,2,3,123,12,312,3,213,12)"
   ]
  },
  {
   "cell_type": "code",
   "execution_count": null,
   "id": "49a7c3e6-95b5-4f7a-a688-b8c6337bcb0e",
   "metadata": {},
   "outputs": [],
   "source": [
    "\n",
    "m(1,2,3,123,12,312,3,213,12)"
   ]
  },
  {
   "cell_type": "code",
   "execution_count": 276,
   "id": "3a5d9203-585e-4598-ad5e-25bf95aea105",
   "metadata": {
    "tags": []
   },
   "outputs": [
    {
     "data": {
      "text/plain": [
       "{'a': 10, 'b': 33, 'c': 20}"
      ]
     },
     "execution_count": 276,
     "metadata": {},
     "output_type": "execute_result"
    }
   ],
   "source": [
    "{\n",
    "    \n",
    "**    {'a':10},\n",
    "**    {'b':33,'c':20}\n",
    "\n",
    "\n",
    "}"
   ]
  },
  {
   "cell_type": "code",
   "execution_count": 343,
   "id": "71aaa2d8-1d9a-4650-aa7a-a27436585927",
   "metadata": {
    "tags": []
   },
   "outputs": [
    {
     "name": "stdout",
     "output_type": "stream",
     "text": [
      "{}\n"
     ]
    },
    {
     "data": {
      "text/plain": [
       "63"
      ]
     },
     "execution_count": 343,
     "metadata": {},
     "output_type": "execute_result"
    }
   ],
   "source": [
    "m(a=10,b=33,c=20).a"
   ]
  },
  {
   "cell_type": "code",
   "execution_count": 283,
   "id": "db65609f-11b2-48a0-b716-4c26686a0347",
   "metadata": {
    "tags": []
   },
   "outputs": [
    {
     "data": {
      "text/plain": [
       "[1, 2]"
      ]
     },
     "execution_count": 283,
     "metadata": {},
     "output_type": "execute_result"
    }
   ],
   "source": [
    "[*[1],*[2]]"
   ]
  },
  {
   "cell_type": "code",
   "execution_count": 296,
   "id": "5415dda6-8556-415c-8a72-9c9e9577cd2d",
   "metadata": {
    "tags": []
   },
   "outputs": [
    {
     "data": {
      "text/plain": [
       "6"
      ]
     },
     "execution_count": 296,
     "metadata": {},
     "output_type": "execute_result"
    }
   ],
   "source": [
    "m(*[2,2,2]).a"
   ]
  },
  {
   "cell_type": "code",
   "execution_count": null,
   "id": "e1026d38-0f60-44fa-a1bd-4bf5bec620bc",
   "metadata": {},
   "outputs": [],
   "source": [
    "None"
   ]
  }
 ],
 "metadata": {
  "kernelspec": {
   "display_name": "venv",
   "language": "python",
   "name": "venv"
  },
  "language_info": {
   "codemirror_mode": {
    "name": "ipython",
    "version": 3
   },
   "file_extension": ".py",
   "mimetype": "text/x-python",
   "name": "python",
   "nbconvert_exporter": "python",
   "pygments_lexer": "ipython3",
   "version": "3.11.3"
  }
 },
 "nbformat": 4,
 "nbformat_minor": 5
}
